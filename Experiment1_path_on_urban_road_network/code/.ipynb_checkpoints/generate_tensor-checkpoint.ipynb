{
 "cells": [
  {
   "cell_type": "code",
   "execution_count": 1,
   "id": "7d47b9e2",
   "metadata": {},
   "outputs": [
    {
     "name": "stdout",
     "output_type": "stream",
     "text": [
      "len of raw tras when loading: 31238\n",
      "len of raw tras after filter: 31238\n"
     ]
    },
    {
     "name": "stderr",
     "output_type": "stream",
     "text": [
      "100%|██████████| 31238/31238 [00:21<00:00, 1475.18it/s]\n"
     ]
    },
    {
     "name": "stdout",
     "output_type": "stream",
     "text": [
      "len(edge_list): 5760 len(tras): 31238\n",
      "len of raw tras when loading: 31238\n"
     ]
    },
    {
     "name": "stderr",
     "output_type": "stream",
     "text": [
      "100%|██████████| 31238/31238 [00:32<00:00, 950.97it/s] \n"
     ]
    },
    {
     "name": "stdout",
     "output_type": "stream",
     "text": [
      "torch.Size([5760, 31238]) tensor(944347., dtype=torch.float64)\n",
      "torch.Size([5760, 31238]) tensor(464366., dtype=torch.float64)\n"
     ]
    }
   ],
   "source": [
    "import numpy as np\n",
    "import sys\n",
    "sys.path.append('..')\n",
    "\n",
    "import os\n",
    "import re\n",
    "import json\n",
    "import numpy as np\n",
    "from utils.utils import *\n",
    "import torch\n",
    "import numpy as np\n",
    "from torch.autograd import Variable\n",
    "import torch.nn.functional as F\n",
    "import matplotlib.pyplot as plt\n",
    "from tqdm import trange\n",
    "from torch.optim.lr_scheduler import StepLR\n",
    "import matplotlib.pyplot as plt\n",
    "import pandas as pd\n",
    "import seaborn as sns\n",
    "import torch\n",
    "import dill\n",
    "import matplotlib.pyplot as plt\n",
    "from tqdm import tqdm\n",
    "# print(torch.__version__)\n",
    "# print(torch.version.cuda)\n",
    "# use_gpu = torch.cuda.is_available()\n",
    "# use_gpu\n",
    "sns.set_theme(style=\"darkgrid\")\n",
    "import warnings\n",
    "warnings.filterwarnings(\"ignore\")\n",
    "from tqdm import tqdm\n",
    "save_dir = '/root/autodl-tmp/tensorized_raw_data/'\n",
    "raw_tras_name = \"diff\"\n",
    "tra_num = 3892\n",
    "\n",
    "\n",
    "\n",
    "num_of_tra_4_train = 100000\n",
    "\n",
    "edge_list = []\n",
    "\n",
    "raw_tras_name_list=[]\n",
    "for p in  [0,0.02,0.04,0.06,0.08,0.10]:\n",
    "# for p in  [0]:\n",
    "    raw_tras_name_list.append(raw_tras_name+str(tra_num)+'_p'+str(p))\n",
    "# raw_tras_name_list = ['tra_datasetfutian5_5_'+str(tra_num)+'_p0','tra_datasetfutian5_5_'+str(tra_num)+'_p0.03']\n",
    "raw_tras_name_list = [\"tra_datasetfutian5_5_31238\"]\n",
    "# 对于所有的在不同噪声水平下的轨迹数据集，首先我们先计算其共有的edge list\n",
    "for raw_tras_name in raw_tras_name_list :\n",
    "# for raw_tras_name in ['tra_datasetfutian5_5_30221_p0',\"tra_datasetfutian5_5_30221_p0.03\"]:\n",
    "# for raw_tras_name in [\"tra_datasetfutian5_5_30221_p0.1\"]:\n",
    "    raw_tras_sz = load_tras(save_dir+raw_tras_name+\".npy\")\n",
    "    print(\"len of raw tras when loading:\",len(raw_tras_sz))\n",
    "    tras = raw_tras_sz\n",
    "    # tras,tra_index_list = filter_raw_num_of_edge_6(raw_tras_sz)\n",
    "    tras = tras[:num_of_tra_4_train] \n",
    "    print(\"len of raw tras after filter:\",len(tras))\n",
    "    # 我们需要获得所有的edge并且编号；并且获得所有的t与e的对应关系 这样方便下一步计算矩阵，也就是得到edge_list\n",
    "    \n",
    "    for i in trange(len(tras)):\n",
    "        tra = tras[i]\n",
    "        for edge in tra:\n",
    "            if edge not in edge_list:\n",
    "                edge_list.append(edge)  \n",
    "\n",
    "\n",
    "    l,n = len(edge_list),len(tras)\n",
    "    print(\"len(edge_list):\",l,\"len(tras):\",n)\n",
    "# 我们将这个edge_list保存下来\n",
    "import pickle\n",
    "with open(save_dir+'edge_list'+raw_tras_name+'.pkl', 'wb') as f:\n",
    "    pickle.dump(edge_list, f)\n",
    "cnt=0\n",
    "# 然后我们再重新对每一个数据集，根据已经保存下来的编的信息来构造tensor\n",
    "tensor_list = []\n",
    "for raw_tras_name in raw_tras_name_list:\n",
    "    # with open('data.pkl', 'rb') as f:\n",
    "        # loaded_data = pickle.load(f)\n",
    "    # print(loaded_data)\n",
    "\n",
    "    raw_tras_sz = load_tras(save_dir+raw_tras_name+\".npy\")\n",
    "    print(\"len of raw tras when loading:\",len(raw_tras_sz))\n",
    "    tras = raw_tras_sz\n",
    "    # tras,tra_index_list = filter_raw_num_of_edge_6(raw_tras_sz)\n",
    "    tras = tras[:num_of_tra_4_train] \n",
    "    T = np.zeros((l, n)) #记录e和t之间关系\n",
    "    T_half = np.zeros((l, n)) #记录e和t之间关系\n",
    "    for i in trange(len(tras)):\n",
    "        tra = tras[i]\n",
    "        for edge in tra:\n",
    "            T[edge_list.index(edge)][i] = 1\n",
    "            cnt+=1\n",
    "        for edge in tra[:int(len(tra)/2)]:\n",
    "            T_half[edge_list.index(edge)][i] = 1\n",
    "\n",
    "    T_tensor=torch.from_numpy(T[:len(edge_list)])#.cuda()\n",
    "    tensor_path = save_dir+'T_tensor'+raw_tras_name+'.pth'\n",
    "    torch.save(T_tensor, tensor_path)\n",
    "    tensor_list.append(T_tensor)\n",
    "    print(T_tensor.shape,T_tensor.sum())\n",
    "    T_tensor=torch.from_numpy(T_half[:len(edge_list)])#.cuda()\n",
    "    tensor_path = save_dir+'T_tensor_half'+raw_tras_name+'.pth'\n",
    "    torch.save(T_tensor, tensor_path)\n",
    "    print(T_tensor.shape,T_tensor.sum())\n",
    "\n"
   ]
  }
 ],
 "metadata": {
  "kernelspec": {
   "display_name": "Python 3 (ipykernel)",
   "language": "python",
   "name": "python3"
  },
  "language_info": {
   "codemirror_mode": {
    "name": "ipython",
    "version": 3
   },
   "file_extension": ".py",
   "mimetype": "text/x-python",
   "name": "python",
   "nbconvert_exporter": "python",
   "pygments_lexer": "ipython3",
   "version": "3.8.10"
  },
  "toc-autonumbering": true,
  "toc-showmarkdowntxt": true,
  "vscode": {
   "interpreter": {
    "hash": "2f394aca7ca06fed1e6064aef884364492d7cdda3614a461e02e6407fc40ba69"
   }
  }
 },
 "nbformat": 4,
 "nbformat_minor": 5
}
